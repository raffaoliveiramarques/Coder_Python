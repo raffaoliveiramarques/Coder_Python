{
 "cells": [
  {
   "cell_type": "code",
   "execution_count": 63,
   "metadata": {},
   "outputs": [
    {
     "name": "stdout",
     "output_type": "stream",
     "text": [
      "O número 50 é: Par\n"
     ]
    }
   ],
   "source": [
    "numero = int(input(\"Digite um numero inteiro: \"))\n",
    "if numero % 2 == 1:\n",
    "    print(f\"O número {numero} é: Ímpar\")\n",
    "else:\n",
    "    print(f\"O número {numero} é: Par\")\n",
    "\n"
   ]
  },
  {
   "cell_type": "code",
   "execution_count": 62,
   "metadata": {},
   "outputs": [
    {
     "name": "stdout",
     "output_type": "stream",
     "text": [
      "A palavra rafael tem 6 letras.\n",
      "A palavra oliveira tem 8 letras.\n",
      "A palavra marques tem 7 letras.\n"
     ]
    }
   ],
   "source": [
    "frase = input(\"Escreva uma frase:\")\n",
    "frase = frase.split()\n",
    "for i in frase:\n",
    "    print(f\"A palavra {i} tem {len(i)} letras.\")\n",
    "\n",
    "\n"
   ]
  },
  {
   "cell_type": "code",
   "execution_count": 72,
   "metadata": {},
   "outputs": [
    {
     "name": "stdout",
     "output_type": "stream",
     "text": [
      "Senha inválida!\n",
      "Senha inválida!\n",
      "Acesso liberado!\n"
     ]
    }
   ],
   "source": [
    "senha = int(input(\"Digite a senha para acessar: \"))\n",
    "while senha != 1234:\n",
    "    print(\"Senha inválida!\")\n",
    "    senha = int(input(\"Digite a senha para acessar: \"))\n",
    "print(\"Acesso liberado!\")\n",
    "\n",
    "\n",
    "\n"
   ]
  }
 ],
 "metadata": {
  "kernelspec": {
   "display_name": "Python 3",
   "language": "python",
   "name": "python3"
  },
  "language_info": {
   "codemirror_mode": {
    "name": "ipython",
    "version": 3
   },
   "file_extension": ".py",
   "mimetype": "text/x-python",
   "name": "python",
   "nbconvert_exporter": "python",
   "pygments_lexer": "ipython3",
   "version": "3.12.0"
  }
 },
 "nbformat": 4,
 "nbformat_minor": 2
}
